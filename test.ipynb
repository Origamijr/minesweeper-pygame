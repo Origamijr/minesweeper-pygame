{
 "cells": [
  {
   "cell_type": "code",
   "execution_count": 1,
   "metadata": {},
   "outputs": [],
   "source": [
    "from core.board import Board\n",
    "from analysis.msm_builder import get_msm_graph\n",
    "from solver.solver import solve"
   ]
  },
  {
   "cell_type": "code",
   "execution_count": 5,
   "metadata": {},
   "outputs": [
    {
     "name": "stdout",
     "output_type": "stream",
     "text": [
      "-------2/4\n",
      "|1    |\n",
      "|1 *4*|\n",
      "-------\n"
     ]
    }
   ],
   "source": [
    "# expert\n",
    "#r, c, n = 16, 30, 99\n",
    "\n",
    "r, c, n = 2, 5, 4\n",
    "start = (0,0)\n",
    "seed = None          \n",
    "preset = True\n",
    "profile = True\n",
    "B_t = Board.random_complete(r,c,n,exclude=[start],seed=seed)\n",
    "B_k = Board(r,c,n)\n",
    "if preset:\n",
    "    B_k.set_clear(0,0,1)\n",
    "    B_k.set_clear(1,0,1)\n",
    "    B_k.set_clear(1,3,4)\n",
    "    B_k.set_mine(1,2)\n",
    "    B_k.set_mine(1,4)\n",
    "    pass\n",
    "if preset: print(B_k)\n",
    "elif seed is not None: print(B_t)"
   ]
  },
  {
   "cell_type": "code",
   "execution_count": 9,
   "metadata": {},
   "outputs": [
    {
     "name": "stdout",
     "output_type": "stream",
     "text": [
      "tensor([[0.0000, 0.3333, 0.1667, 0.1667, 0.1667],\n",
      "        [0.0000, 0.3333, 0.0000, 0.0000, 0.0000]])\n"
     ]
    },
    {
     "ename": "ZeroDivisionError",
     "evalue": "division by zero",
     "output_type": "error",
     "traceback": [
      "\u001b[1;31m---------------------------------------------------------------------------\u001b[0m",
      "\u001b[1;31mZeroDivisionError\u001b[0m                         Traceback (most recent call last)",
      "Cell \u001b[1;32mIn[9], line 14\u001b[0m\n\u001b[0;32m      7\u001b[0m \u001b[38;5;66;03m#print(B_o, msm, c, f, '\\n', solns)\u001b[39;00m\n\u001b[0;32m      8\u001b[0m \u001b[38;5;66;03m#msms = seperate_connected_msm_components(msm)\u001b[39;00m\n\u001b[0;32m      9\u001b[0m \u001b[38;5;66;03m#print(solutions := find_solutions(msms[0], verbose=0))\u001b[39;00m\n\u001b[0;32m     10\u001b[0m \u001b[38;5;66;03m#print(solutions.get_solution_counts_with_coords(clear_coords=[(0,1)]))\u001b[39;00m\n\u001b[0;32m     11\u001b[0m \u001b[38;5;66;03m#print(solutions.get_solution_counts_for_numbers((0,1), clear_coords=[(0,1)]))\u001b[39;00m\n\u001b[0;32m     12\u001b[0m \u001b[38;5;66;03m#print(calculate_safety(B_k, order=5, prune_threshold=0.8, verbose=3))\u001b[39;00m\n\u001b[0;32m     13\u001b[0m \u001b[38;5;28mprint\u001b[39m(solns\u001b[38;5;241m.\u001b[39mbrute_force_win(verbose\u001b[38;5;241m=\u001b[39m\u001b[38;5;241m0\u001b[39m))\n\u001b[1;32m---> 14\u001b[0m \u001b[38;5;28mprint\u001b[39m(\u001b[43mcalculate_probabilities\u001b[49m\u001b[43m(\u001b[49m\u001b[43mB_k\u001b[49m\u001b[43m,\u001b[49m\u001b[43m \u001b[49m\u001b[43mverbose\u001b[49m\u001b[38;5;241;43m=\u001b[39;49m\u001b[38;5;241;43m0\u001b[39;49m\u001b[43m)\u001b[49m)\n",
      "File \u001b[1;32mc:\\Users\\origa\\Desktop\\repos\\minesweeper-pygame\\analysis\\probability.py:36\u001b[0m, in \u001b[0;36mcalculate_probabilities\u001b[1;34m(B, stats, verbose)\u001b[0m\n\u001b[0;32m     33\u001b[0m         \u001b[38;5;28;01mif\u001b[39;00m verbose \u001b[38;5;241m==\u001b[39m \u001b[38;5;241m3\u001b[39m: \u001b[38;5;28mprint\u001b[39m(\u001b[38;5;124mf\u001b[39m\u001b[38;5;124m'\u001b[39m\u001b[38;5;124mnumber of solutions for component\u001b[39m\u001b[38;5;130;01m\\n\u001b[39;00m\u001b[38;5;132;01m{\u001b[39;00mcomponent\u001b[38;5;241m.\u001b[39mbitmap()\u001b[38;5;132;01m}\u001b[39;00m\u001b[38;5;124m: \u001b[39m\u001b[38;5;132;01m{\u001b[39;00mcounts[\u001b[38;5;241m-\u001b[39m\u001b[38;5;241m1\u001b[39m]\u001b[38;5;132;01m}\u001b[39;00m\u001b[38;5;124m'\u001b[39m)\n\u001b[0;32m     34\u001b[0m         \u001b[38;5;28;01mif\u001b[39;00m verbose \u001b[38;5;241m>\u001b[39m\u001b[38;5;241m=\u001b[39m \u001b[38;5;241m4\u001b[39m: \u001b[38;5;28mprint\u001b[39m(\u001b[38;5;124mf\u001b[39m\u001b[38;5;124m'\u001b[39m\u001b[38;5;124msolutions for component\u001b[39m\u001b[38;5;130;01m\\n\u001b[39;00m\u001b[38;5;132;01m{\u001b[39;00mcomponent\u001b[38;5;241m.\u001b[39mbitmap()\u001b[38;5;132;01m}\u001b[39;00m\u001b[38;5;124m: \u001b[39m\u001b[38;5;132;01m{\u001b[39;00msolutions[\u001b[38;5;241m-\u001b[39m\u001b[38;5;241m1\u001b[39m]\u001b[38;5;132;01m}\u001b[39;00m\u001b[38;5;124m'\u001b[39m)\n\u001b[1;32m---> 36\u001b[0m probabilities \u001b[38;5;241m=\u001b[39m \u001b[43mcompute_probability_from_solution_counts\u001b[49m\u001b[43m(\u001b[49m\u001b[43mcomponents\u001b[49m\u001b[43m,\u001b[49m\u001b[43m \u001b[49m\u001b[43msolutions\u001b[49m\u001b[43m,\u001b[49m\u001b[43m \u001b[49m\u001b[43mcounts\u001b[49m\u001b[43m,\u001b[49m\u001b[43m \u001b[49m\u001b[43mB\u001b[49m\u001b[38;5;241;43m.\u001b[39;49m\u001b[43mremaining_mines\u001b[49m\u001b[43m(\u001b[49m\u001b[43m)\u001b[49m\u001b[43m,\u001b[49m\u001b[43m \u001b[49m\u001b[43mverbose\u001b[49m\u001b[38;5;241;43m=\u001b[39;49m\u001b[43mverbose\u001b[49m\u001b[43m)\u001b[49m\n\u001b[0;32m     38\u001b[0m \u001b[38;5;66;03m# If cell was marked to be flagged, its probability is 1\u001b[39;00m\n\u001b[0;32m     39\u001b[0m \u001b[38;5;28;01mfor\u001b[39;00m coord \u001b[38;5;129;01min\u001b[39;00m B\u001b[38;5;241m.\u001b[39mget_mines():\n",
      "File \u001b[1;32mc:\\Users\\origa\\Desktop\\repos\\minesweeper-pygame\\analysis\\probability.py:88\u001b[0m, in \u001b[0;36mcompute_probability_from_solution_counts\u001b[1;34m(components, solutions, counts, remaining_mines, return_possibilities, verbose)\u001b[0m\n\u001b[0;32m     86\u001b[0m \u001b[38;5;28;01mif\u001b[39;00m verbose \u001b[38;5;241m>\u001b[39m\u001b[38;5;241m=\u001b[39m \u001b[38;5;241m3\u001b[39m: \u001b[38;5;28mprint\u001b[39m(\u001b[38;5;124mf\u001b[39m\u001b[38;5;124m'\u001b[39m\u001b[38;5;124mnumber of mines to place: \u001b[39m\u001b[38;5;132;01m{\u001b[39;00mremaining_mines\u001b[38;5;132;01m}\u001b[39;00m\u001b[38;5;124m'\u001b[39m)\n\u001b[0;32m     87\u001b[0m \u001b[38;5;28;01mif\u001b[39;00m verbose \u001b[38;5;241m>\u001b[39m\u001b[38;5;241m=\u001b[39m \u001b[38;5;241m3\u001b[39m: \u001b[38;5;28mprint\u001b[39m(\u001b[38;5;124mf\u001b[39m\u001b[38;5;124m'\u001b[39m\u001b[38;5;124mtotal possibilities: \u001b[39m\u001b[38;5;132;01m{\u001b[39;00mtotal_possibilities\u001b[38;5;132;01m}\u001b[39;00m\u001b[38;5;124m'\u001b[39m)\n\u001b[1;32m---> 88\u001b[0m c_prob \u001b[38;5;241m=\u001b[39m \u001b[43mc_possibilities\u001b[49m\u001b[43m \u001b[49m\u001b[38;5;241;43m/\u001b[39;49m\u001b[43m \u001b[49m\u001b[43mtotal_possibilities\u001b[49m \u001b[38;5;66;03m# probability of mine in complement region\u001b[39;00m\n\u001b[0;32m     90\u001b[0m probabilities \u001b[38;5;241m=\u001b[39m torch\u001b[38;5;241m.\u001b[39mzeros(\u001b[38;5;241m*\u001b[39mcomponents[\u001b[38;5;241m0\u001b[39m]\u001b[38;5;241m.\u001b[39mbitmap()\u001b[38;5;241m.\u001b[39mshape)\n\u001b[0;32m     91\u001b[0m \u001b[38;5;28;01mfor\u001b[39;00m i, (component, solution) \u001b[38;5;129;01min\u001b[39;00m \u001b[38;5;28menumerate\u001b[39m(\u001b[38;5;28mzip\u001b[39m(components, solutions)):\n\u001b[0;32m     92\u001b[0m     \u001b[38;5;66;03m# Iterate over the 1 bits in the merged MSM (i.e all the possible locations for the count group)\u001b[39;00m\n",
      "\u001b[1;31mZeroDivisionError\u001b[0m: division by zero"
     ]
    }
   ],
   "source": [
    "from analysis.msm_analysis import find_solutions, seperate_connected_msm_components\n",
    "from analysis.probability import calculate_probabilities\n",
    "from analysis.ordered_probability import calculate_safety\n",
    "if preset:\n",
    "    B_o, msm, c, f = get_msm_graph(B_k, order=1, verbose=0)\n",
    "    solns = find_solutions(msm)\n",
    "    #print(B_o, msm, c, f, '\\n', solns)\n",
    "    #msms = seperate_connected_msm_components(msm)\n",
    "    #print(solutions := find_solutions(msms[0], verbose=0))\n",
    "    #print(solutions.get_solution_counts_with_coords(clear_coords=[(0,1)]))\n",
    "    #print(solutions.get_solution_counts_for_numbers((0,1), clear_coords=[(0,1)]))\n",
    "    #print(calculate_safety(B_k, order=5, prune_threshold=0.8, verbose=3))\n",
    "    print(solns.brute_force_win(verbose=0))\n",
    "    print(calculate_probabilities(B_k, verbose=0))"
   ]
  },
  {
   "cell_type": "code",
   "execution_count": 4,
   "metadata": {},
   "outputs": [],
   "source": [
    "import cProfile\n",
    "if not preset and seed is not None:\n",
    "    B_k = Board(r,c,n)\n",
    "    if profile:\n",
    "        cProfile.run('print(solve(B_k, B_t, first_move=start, verbose=0))')\n",
    "    else:\n",
    "        print(solve(B_k, B_t, first_move=start, verbose=0))"
   ]
  },
  {
   "cell_type": "code",
   "execution_count": 5,
   "metadata": {},
   "outputs": [],
   "source": [
    "import random\n",
    "if seed is None and not preset:\n",
    "    start = (0,0)\n",
    "    max_iterations = 1000\n",
    "    max_wins = 100\n",
    "    wins = 0\n",
    "    win_time = 0\n",
    "    win_guesses = 0\n",
    "    win_risk = 0\n",
    "    ng_games = 0\n",
    "    i = 0\n",
    "    for i in range(max_iterations):\n",
    "        seed = random.randint(0, 2**32)\n",
    "        B_t = Board.random_complete(r,c,n,exclude=[start], seed=seed)\n",
    "        B_k = Board(r,c,n)\n",
    "        print(seed, end=' ')\n",
    "        win, stats = solve(B_k, B_t, first_move=start, verbose=0)\n",
    "        if win: \n",
    "            wins += 1\n",
    "            win_time += stats.time\n",
    "            win_guesses += stats.guesses\n",
    "            win_risk += stats.risk\n",
    "            if stats.guesses == 0: ng_games += 1\n",
    "        print(win, f'{wins}/{i+1}', stats)\n",
    "        if wins >= max_wins: break\n",
    "    seed = None\n",
    "    i += 1\n",
    "    print(f'Wins: {wins/i}, Avg_Time: {win_time/wins}, Avg_guess: {win_guesses/wins}, Avg_risk:{win_risk/wins}, NG: {ng_games}')"
   ]
  },
  {
   "cell_type": "code",
   "execution_count": 12,
   "metadata": {},
   "outputs": [
    {
     "data": {
      "text/plain": [
       "(0, 0, 1)"
      ]
     },
     "execution_count": 12,
     "metadata": {},
     "output_type": "execute_result"
    }
   ],
   "source": [
    "from copy import deepcopy\n",
    "\n",
    "class foo:\n",
    "    def __init__(self, x):\n",
    "        self.x = x\n",
    "\n",
    "a = foo(0)\n",
    "b = foo(a)\n",
    "c = deepcopy(b)\n",
    "c.x.x = 1\n",
    "a.x, b.x.x, c.x.x"
   ]
  },
  {
   "cell_type": "code",
   "execution_count": 16,
   "metadata": {},
   "outputs": [
    {
     "data": {
      "text/plain": [
       "[(0, 1, 1, 2),\n",
       " (0, 2, 1, 3),\n",
       " (0, 3, 1, 4),\n",
       " (0, 4, 1, 5),\n",
       " (1, 2, 2, 3),\n",
       " (1, 3, 2, 4),\n",
       " (1, 4, 2, 5),\n",
       " (2, 3, 3, 4),\n",
       " (2, 4, 3, 5),\n",
       " (3, 4, 4, 5)]"
      ]
     },
     "execution_count": 16,
     "metadata": {},
     "output_type": "execute_result"
    }
   ],
   "source": [
    "from itertools import combinations\n",
    "\n",
    "a = [(i,i+1) for i in range(5)]\n",
    "\n",
    "def foo(a):\n",
    "    for (a1, b1), (a2, b2) in combinations(a, 2):\n",
    "        yield (a1, a2, b1, b2)\n",
    "\n",
    "list(foo(a))"
   ]
  }
 ],
 "metadata": {
  "kernelspec": {
   "display_name": "venv_ms",
   "language": "python",
   "name": "python3"
  },
  "language_info": {
   "codemirror_mode": {
    "name": "ipython",
    "version": 3
   },
   "file_extension": ".py",
   "mimetype": "text/x-python",
   "name": "python",
   "nbconvert_exporter": "python",
   "pygments_lexer": "ipython3",
   "version": "3.10.9"
  },
  "orig_nbformat": 4,
  "vscode": {
   "interpreter": {
    "hash": "4fd5f1a78ec943c8c356326e814b494338dee1ea64c07e73bae3131ad7e9957b"
   }
  }
 },
 "nbformat": 4,
 "nbformat_minor": 2
}
