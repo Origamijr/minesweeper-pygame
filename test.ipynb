{
 "cells": [
  {
   "cell_type": "code",
   "execution_count": 1,
   "metadata": {},
   "outputs": [],
   "source": [
    "from core.board import Board\n",
    "from analysis.msm_builder import get_msm_graph\n",
    "from solver.solver import solve"
   ]
  },
  {
   "cell_type": "code",
   "execution_count": 2,
   "metadata": {},
   "outputs": [],
   "source": [
    "r = 9\n",
    "c = 9\n",
    "n = 10\n",
    "start = (0,0)\n",
    "seed = 878555892 \n",
    "preset = False\n",
    "profile = False\n",
    "B_t = Board.random_complete(r,c,n,exclude=[start],seed=seed)\n",
    "assert B_t[start].M == 0\n",
    "B_k = Board(r,c,n)\n",
    "if not preset:\n",
    "    B_k.set_clear(*start)\n",
    "    B_k.project_from(B_t)\n",
    "else:\n",
    "    B_k.set_clear(0,0,1)\n",
    "    B_k.set_clear(1,0,1)\n",
    "    B_k.set_clear(2,0,1)\n",
    "    B_k.set_clear(2,1,3)\n",
    "    B_k.set_clear(0,2,2)\n",
    "if preset: print(B_k)\n",
    "elif seed is not None: print(B_t)"
   ]
  },
  {
   "cell_type": "code",
   "execution_count": 3,
   "metadata": {},
   "outputs": [],
   "source": [
    "from analysis.msm_analysis import find_solutions, seperate_connected_msm_components\n",
    "from functools import reduce\n",
    "if preset: \n",
    "    B_o, msm, c, f = get_msm_graph(B_k, order=2, verbose=0)\n",
    "    print(B_o, msm, c, f)\n",
    "    msms = seperate_connected_msm_components(msm)\n",
    "    print(find_solutions(msms[0], verbose=0))"
   ]
  },
  {
   "cell_type": "code",
   "execution_count": 4,
   "metadata": {},
   "outputs": [],
   "source": [
    "import cProfile\n",
    "if not preset and seed is not None:\n",
    "    if profile:\n",
    "        cProfile.run('print(solve(B_k, B_t, verbose=2)[0])')\n",
    "    else:\n",
    "        print(solve(B_k, B_t, verbose=2)[0])"
   ]
  },
  {
   "cell_type": "code",
   "execution_count": 5,
   "metadata": {},
   "outputs": [
    {
     "name": "stdout",
     "output_type": "stream",
     "text": [
      "3924137663 1421665367 990633665 3654313415 3252479610 1858519741 2986315965 879236947 4197776054 2964939477 93216910 878555892 "
     ]
    },
    {
     "ename": "AssertionError",
     "evalue": "Error in probability calculation -1.0\ntensor([[0.0000, 0.0000, 0.0000, 0.0000, 0.0000, 0.0000, 0.0000, 0.0000, 0.0000],\n        [0.0000, 0.0000, 1.0000, 0.0000, 0.0000, 0.0000, 0.0000, 0.0000, 0.0000],\n        [0.0000, 0.0000, 0.0000, 0.0000, 0.0000, 0.0000, 0.0000, 0.0000, 0.0000],\n        [0.0000, 0.0000, 0.0000, 1.0000, 0.0000, 0.0000, 0.0000, 0.0000, 0.0000],\n        [1.0000, 1.0000, 0.0000, 0.0000, 0.0000, 0.0000, 0.0000, 0.0000, 0.0000],\n        [0.0000, 1.0000, 0.0000, 0.0000, 0.0000, 0.0000, 0.0000, 0.0000, 0.0000],\n        [0.3750, 0.0000, 0.0000, 0.0000, 0.0000, 0.0000, 0.0000, 0.0000, 0.0000],\n        [0.3750, 0.0000, 0.0000, 0.0000, 0.0000, 1.0000, 0.0000, 0.0000, 0.0000],\n        [0.2500, 0.2500, 0.2500, 0.2500, 0.2500, 0.2500, 0.0000, 0.5000, 0.2500]])",
     "output_type": "error",
     "traceback": [
      "\u001b[1;31m---------------------------------------------------------------------------\u001b[0m",
      "\u001b[1;31mAssertionError\u001b[0m                            Traceback (most recent call last)",
      "Cell \u001b[1;32mIn[5], line 15\u001b[0m\n\u001b[0;32m     13\u001b[0m     B_k\u001b[39m.\u001b[39mproject_from(B_t)\n\u001b[0;32m     14\u001b[0m     \u001b[39mprint\u001b[39m(seed, end\u001b[39m=\u001b[39m\u001b[39m'\u001b[39m\u001b[39m \u001b[39m\u001b[39m'\u001b[39m)\n\u001b[1;32m---> 15\u001b[0m     win, steps \u001b[39m=\u001b[39m solve(B_k, B_t, verbose\u001b[39m=\u001b[39;49m\u001b[39m0\u001b[39;49m)\n\u001b[0;32m     16\u001b[0m     \u001b[39mif\u001b[39;00m win: wins \u001b[39m+\u001b[39m\u001b[39m=\u001b[39m \u001b[39m1\u001b[39m\n\u001b[0;32m     17\u001b[0m seed \u001b[39m=\u001b[39m \u001b[39mNone\u001b[39;00m\n",
      "File \u001b[1;32mc:\\Users\\origa\\Desktop\\t_projects\\minesweeper\\solver\\solver.py:41\u001b[0m, in \u001b[0;36msolve\u001b[1;34m(B_k, B_t, guess_fn, verbose)\u001b[0m\n\u001b[0;32m     39\u001b[0m steps \u001b[39m+\u001b[39m\u001b[39m=\u001b[39m ng_steps\n\u001b[0;32m     40\u001b[0m \u001b[39mif\u001b[39;00m B_k\u001b[39m.\u001b[39mis_complete(): \u001b[39mreturn\u001b[39;00m \u001b[39mTrue\u001b[39;00m, steps\n\u001b[1;32m---> 41\u001b[0m steps\u001b[39m.\u001b[39mappend(guess_fn(B_k, verbose\u001b[39m=\u001b[39;49mverbose))\n\u001b[0;32m     42\u001b[0m \u001b[39mif\u001b[39;00m verbose \u001b[39m==\u001b[39m \u001b[39m1\u001b[39m: \u001b[39mprint\u001b[39m(B_k)\n\u001b[0;32m     43\u001b[0m \u001b[39mif\u001b[39;00m verbose \u001b[39m>\u001b[39m\u001b[39m=\u001b[39m \u001b[39m1\u001b[39m: \u001b[39mprint\u001b[39m(\u001b[39mf\u001b[39m\u001b[39m\"\u001b[39m\u001b[39mGuess \u001b[39m\u001b[39m{\u001b[39;00msteps[\u001b[39m-\u001b[39m\u001b[39m1\u001b[39m]\u001b[39m}\u001b[39;00m\u001b[39m\"\u001b[39m)\n",
      "File \u001b[1;32mc:\\Users\\origa\\Desktop\\t_projects\\minesweeper\\solver\\solver.py:26\u001b[0m, in \u001b[0;36mguess_min_mine_probability\u001b[1;34m(B_k, verbose)\u001b[0m\n\u001b[0;32m     25\u001b[0m \u001b[39mdef\u001b[39;00m \u001b[39mguess_min_mine_probability\u001b[39m(B_k: Board, verbose\u001b[39m=\u001b[39m\u001b[39m0\u001b[39m):\n\u001b[1;32m---> 26\u001b[0m     p \u001b[39m=\u001b[39m calculate_probabilities(B_k, verbose\u001b[39m=\u001b[39;49mverbose)\n\u001b[0;32m     27\u001b[0m     \u001b[39mif\u001b[39;00m verbose \u001b[39m>\u001b[39m\u001b[39m=\u001b[39m \u001b[39m2\u001b[39m: \u001b[39mprint\u001b[39m(p)\n\u001b[0;32m     28\u001b[0m     coords \u001b[39m=\u001b[39m get_one_ind(p \u001b[39m!=\u001b[39m \u001b[39m0\u001b[39m)\n",
      "File \u001b[1;32mc:\\Users\\origa\\Desktop\\t_projects\\minesweeper\\analysis\\probability.py:95\u001b[0m, in \u001b[0;36mcalculate_probabilities\u001b[1;34m(B, verbose)\u001b[0m\n\u001b[0;32m     92\u001b[0m \u001b[39mfor\u001b[39;00m coord \u001b[39min\u001b[39;00m B\u001b[39m.\u001b[39mget_mines():\n\u001b[0;32m     93\u001b[0m     probabilities[coord] \u001b[39m=\u001b[39m \u001b[39m1\u001b[39m\n\u001b[1;32m---> 95\u001b[0m \u001b[39massert\u001b[39;00m \u001b[39mabs\u001b[39m(torch\u001b[39m.\u001b[39msum(probabilities)\u001b[39m-\u001b[39mB\u001b[39m.\u001b[39mn) \u001b[39m<\u001b[39m \u001b[39m1e-3\u001b[39m, \u001b[39mf\u001b[39m\u001b[39m'\u001b[39m\u001b[39mError in probability calculation \u001b[39m\u001b[39m{\u001b[39;00mtorch\u001b[39m.\u001b[39msum(probabilities)\u001b[39m-\u001b[39mB\u001b[39m.\u001b[39mn\u001b[39m}\u001b[39;00m\u001b[39m\\n\u001b[39;00m\u001b[39m{\u001b[39;00mprobabilities\u001b[39m}\u001b[39;00m\u001b[39m'\u001b[39m\n\u001b[0;32m     96\u001b[0m \u001b[39mreturn\u001b[39;00m probabilities\n",
      "\u001b[1;31mAssertionError\u001b[0m: Error in probability calculation -1.0\ntensor([[0.0000, 0.0000, 0.0000, 0.0000, 0.0000, 0.0000, 0.0000, 0.0000, 0.0000],\n        [0.0000, 0.0000, 1.0000, 0.0000, 0.0000, 0.0000, 0.0000, 0.0000, 0.0000],\n        [0.0000, 0.0000, 0.0000, 0.0000, 0.0000, 0.0000, 0.0000, 0.0000, 0.0000],\n        [0.0000, 0.0000, 0.0000, 1.0000, 0.0000, 0.0000, 0.0000, 0.0000, 0.0000],\n        [1.0000, 1.0000, 0.0000, 0.0000, 0.0000, 0.0000, 0.0000, 0.0000, 0.0000],\n        [0.0000, 1.0000, 0.0000, 0.0000, 0.0000, 0.0000, 0.0000, 0.0000, 0.0000],\n        [0.3750, 0.0000, 0.0000, 0.0000, 0.0000, 0.0000, 0.0000, 0.0000, 0.0000],\n        [0.3750, 0.0000, 0.0000, 0.0000, 0.0000, 1.0000, 0.0000, 0.0000, 0.0000],\n        [0.2500, 0.2500, 0.2500, 0.2500, 0.2500, 0.2500, 0.0000, 0.5000, 0.2500]])"
     ]
    }
   ],
   "source": [
    "import random\n",
    "if seed is not None or preset: assert False\n",
    "start = (0,0)\n",
    "iterations = 30\n",
    "wins = 0\n",
    "for i in range(iterations):\n",
    "    while True:\n",
    "        seed = random.randint(0, 2**32)\n",
    "        B_t = Board.random_complete(r,c,n,exclude=[start], seed=seed)\n",
    "        if B_t[start].M == 0: break\n",
    "    B_k = Board(r,c,n)\n",
    "    B_k.set_clear(*start)\n",
    "    B_k.project_from(B_t)\n",
    "    print(seed, end=' ')\n",
    "    win, steps = solve(B_k, B_t, verbose=0)\n",
    "    if win: wins += 1\n",
    "seed = None\n",
    "wins / iterations"
   ]
  }
 ],
 "metadata": {
  "kernelspec": {
   "display_name": "venv_ms",
   "language": "python",
   "name": "python3"
  },
  "language_info": {
   "codemirror_mode": {
    "name": "ipython",
    "version": 3
   },
   "file_extension": ".py",
   "mimetype": "text/x-python",
   "name": "python",
   "nbconvert_exporter": "python",
   "pygments_lexer": "ipython3",
   "version": "3.10.1"
  },
  "orig_nbformat": 4,
  "vscode": {
   "interpreter": {
    "hash": "4fd5f1a78ec943c8c356326e814b494338dee1ea64c07e73bae3131ad7e9957b"
   }
  }
 },
 "nbformat": 4,
 "nbformat_minor": 2
}
