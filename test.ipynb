{
 "cells": [
  {
   "cell_type": "code",
   "execution_count": null,
   "metadata": {},
   "outputs": [],
   "source": [
    "from core.board import Board\n",
    "from analysis.msm_builder import get_msm_graph\n",
    "from solver.solver import solve"
   ]
  },
  {
   "cell_type": "code",
   "execution_count": null,
   "metadata": {},
   "outputs": [],
   "source": [
    "print('\\a')"
   ]
  },
  {
   "cell_type": "code",
   "execution_count": null,
   "metadata": {},
   "outputs": [],
   "source": [
    "r = 16\n",
    "c = 30\n",
    "n = 99\n",
    "start = (0,0)\n",
    "seed = 750854766      \n",
    "preset = False\n",
    "profile = False\n",
    "B_t = Board.random_complete(r,c,n,exclude=[start],seed=seed)\n",
    "assert B_t[start].M == 0\n",
    "B_k = Board(r,c,n)\n",
    "if not preset:\n",
    "    B_k.set_clear(*start)\n",
    "    B_k.project_from(B_t)\n",
    "else:\n",
    "    B_k.set_clear(0,0,1)\n",
    "    B_k.set_clear(1,0,1)\n",
    "    B_k.set_clear(2,0,1)\n",
    "    B_k.set_clear(2,1,3)\n",
    "    B_k.set_clear(0,2,2)\n",
    "if preset: print(B_k)\n",
    "elif seed is not None: print(B_t)"
   ]
  },
  {
   "cell_type": "code",
   "execution_count": null,
   "metadata": {},
   "outputs": [],
   "source": [
    "from analysis.msm_analysis import find_solutions, seperate_connected_msm_components\n",
    "from functools import reduce\n",
    "if preset: \n",
    "    B_o, msm, c, f = get_msm_graph(B_k, order=2, verbose=0)\n",
    "    print(B_o, msm, c, f)\n",
    "    msms = seperate_connected_msm_components(msm)\n",
    "    print(find_solutions(msms[0], verbose=0))"
   ]
  },
  {
   "cell_type": "code",
   "execution_count": null,
   "metadata": {},
   "outputs": [],
   "source": [
    "import cProfile\n",
    "if not preset and seed is not None:\n",
    "    if profile:\n",
    "        cProfile.run('print(solve(B_k, B_t, verbose=2)[0])')\n",
    "    else:\n",
    "        print(solve(B_k, B_t, verbose=3)[0])"
   ]
  },
  {
   "cell_type": "code",
   "execution_count": null,
   "metadata": {},
   "outputs": [],
   "source": [
    "import random\n",
    "if seed is not None or preset: assert False\n",
    "start = (0,0)\n",
    "iterations = 100\n",
    "wins = 0\n",
    "for i in range(iterations):\n",
    "    while True:\n",
    "        seed = random.randint(0, 2**32)\n",
    "        B_t = Board.random_complete(r,c,n,exclude=[start], seed=seed)\n",
    "        if B_t[start].M == 0: break\n",
    "    B_k = Board(r,c,n)\n",
    "    B_k.set_clear(*start)\n",
    "    B_k.project_from(B_t)\n",
    "    print(seed, end=' ')\n",
    "    win, steps = solve(B_k, B_t, verbose=0)\n",
    "    if win: wins += 1\n",
    "seed = None\n",
    "wins / iterations"
   ]
  }
 ],
 "metadata": {
  "kernelspec": {
   "display_name": "venv_ms",
   "language": "python",
   "name": "python3"
  },
  "language_info": {
   "codemirror_mode": {
    "name": "ipython",
    "version": 3
   },
   "file_extension": ".py",
   "mimetype": "text/x-python",
   "name": "python",
   "nbconvert_exporter": "python",
   "pygments_lexer": "ipython3",
   "version": "3.10.1"
  },
  "orig_nbformat": 4,
  "vscode": {
   "interpreter": {
    "hash": "4fd5f1a78ec943c8c356326e814b494338dee1ea64c07e73bae3131ad7e9957b"
   }
  }
 },
 "nbformat": 4,
 "nbformat_minor": 2
}
