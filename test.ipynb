{
 "cells": [
  {
   "cell_type": "code",
   "execution_count": 1,
   "metadata": {},
   "outputs": [],
   "source": [
    "from core.board import Board\n",
    "from analysis.msm_builder import get_msm_graph\n",
    "from solver.solver import solve"
   ]
  },
  {
   "cell_type": "code",
   "execution_count": 2,
   "metadata": {},
   "outputs": [
    {
     "name": "stdout",
     "output_type": "stream",
     "text": [
      "-------2/4\n",
      "|1    |\n",
      "|1 *3*|\n",
      "-------\n"
     ]
    }
   ],
   "source": [
    "r = 2\n",
    "c = 5\n",
    "n = 4\n",
    "start = (0,0)\n",
    "seed = None          \n",
    "preset = True\n",
    "profile = False\n",
    "B_t = Board.random_complete(r,c,n,exclude=[start],seed=seed)\n",
    "B_k = Board(r,c,n)\n",
    "if preset:\n",
    "    B_k.set_clear(0,0,1)\n",
    "    B_k.set_clear(1,0,1)\n",
    "    B_k.set_clear(1,3,3)\n",
    "    B_k.set_mine(1,2)\n",
    "    B_k.set_mine(1,4)\n",
    "    pass\n",
    "if preset: print(B_k)\n",
    "elif seed is not None: print(B_t)"
   ]
  },
  {
   "cell_type": "code",
   "execution_count": 3,
   "metadata": {},
   "outputs": [
    {
     "name": "stdout",
     "output_type": "stream",
     "text": [
      "Size of MSM Graph: 2\n",
      "number of solutions for component\n",
      "[[0 1 0 0 0]\n",
      " [0 1 0 0 0]]: {1: 2}\n",
      "number of solutions for component\n",
      "[[0 0 1 1 1]\n",
      " [0 0 0 0 0]]: {1: 3}\n",
      "number of total solutions: {2: 6}\n",
      "number of mines to place: 2\n",
      "total possibilities: 6\n",
      "computing probability at (0, 1)\n",
      "if mine at (0, 1), component counts: {1: 1}\n",
      "number of non-complement solutions given mine at (0, 1): {2: 3}\n",
      "possibilities if mine at (0, 1): 3\n",
      "computing probability at (1, 1)\n",
      "if mine at (1, 1), component counts: {1: 1}\n",
      "number of non-complement solutions given mine at (1, 1): {2: 3}\n",
      "possibilities if mine at (1, 1): 3\n",
      "computing probability at (0, 2)\n",
      "if mine at (0, 2), component counts: {1: 2}\n",
      "number of non-complement solutions given mine at (0, 2): {2: 4}\n",
      "possibilities if mine at (0, 2): 4\n",
      "computing probability at (0, 3)\n",
      "if mine at (0, 3), component counts: {1: 2}\n",
      "number of non-complement solutions given mine at (0, 3): {2: 4}\n",
      "possibilities if mine at (0, 3): 4\n",
      "computing probability at (0, 4)\n",
      "if mine at (0, 4), component counts: {1: 2}\n",
      "number of non-complement solutions given mine at (0, 4): {2: 4}\n",
      "possibilities if mine at (0, 4): 4\n",
      "tensor([[0.0000, 0.5000, 0.6667, 0.6667, 0.6667],\n",
      "        [0.0000, 0.5000, 0.0000, 0.0000, 0.0000]])\n",
      "tensor([[0.0000, 0.0000, 0.6667, 0.6667, 0.6667],\n",
      "        [0.0000, 0.0000, 0.0000, 0.0000, 0.0000]])\n"
     ]
    }
   ],
   "source": [
    "from analysis.msm_analysis import find_solutions, seperate_connected_msm_components\n",
    "from analysis.probability import calculate_probabilities\n",
    "from analysis.ordered_probability import calculate_safety\n",
    "if preset:\n",
    "    B_o, msm, c, f = get_msm_graph(B_k, order=2, verbose=0)\n",
    "    #print(B_o, msm, c, f)\n",
    "    msms = seperate_connected_msm_components(msm)\n",
    "    #print(solutions := find_solutions(msms[0], verbose=0))\n",
    "    #print(solutions.get_solution_counts_with_coords(clear_coords=[(0,1)]))\n",
    "    #print(solutions.get_solution_counts_for_numbers((0,1), clear_coords=[(0,1)]))\n",
    "    print(calculate_safety(B_k, order=1, prune_threshold=0, verbose=3))"
   ]
  },
  {
   "cell_type": "code",
   "execution_count": 4,
   "metadata": {},
   "outputs": [],
   "source": [
    "import cProfile\n",
    "if not preset and seed is not None:\n",
    "    B_k = Board(r,c,n)\n",
    "    if profile:\n",
    "        cProfile.run('print(solve(B_k, B_t, first_move=start, verbose=0))')\n",
    "    else:\n",
    "        print(solve(B_k, B_t, first_move=start, verbose=2))"
   ]
  },
  {
   "cell_type": "code",
   "execution_count": 5,
   "metadata": {},
   "outputs": [],
   "source": [
    "import random\n",
    "if seed is None and not preset:\n",
    "    start = (0,0)\n",
    "    max_iterations = 1000\n",
    "    max_wins = 200\n",
    "    wins = 0\n",
    "    win_time = 0\n",
    "    win_guesses = 0\n",
    "    win_risk = 0\n",
    "    ng_games = 0\n",
    "    i = 0\n",
    "    for i in range(max_iterations):\n",
    "        seed = random.randint(0, 2**32)\n",
    "        B_t = Board.random_complete(r,c,n,exclude=[start], seed=seed)\n",
    "        B_k = Board(r,c,n)\n",
    "        print(seed, end=' ')\n",
    "        win, stats = solve(B_k, B_t, first_move=start, verbose=0)\n",
    "        if win: \n",
    "            wins += 1\n",
    "            win_time += stats.time\n",
    "            win_guesses += stats.guesses\n",
    "            win_risk += stats.risk\n",
    "            if stats.guesses == 0: ng_games += 1\n",
    "        print(win, f'{wins}/{i+1}', stats)\n",
    "        if wins >= max_wins: break\n",
    "    seed = None\n",
    "    i += 1\n",
    "    print(f'Wins: {wins/i}, Avg_Time: {win_time/wins}, Avg_guess: {win_guesses/wins}, Avg_risk:{win_risk/wins}, NG: {ng_games}')"
   ]
  }
 ],
 "metadata": {
  "kernelspec": {
   "display_name": "venv_ms",
   "language": "python",
   "name": "python3"
  },
  "language_info": {
   "codemirror_mode": {
    "name": "ipython",
    "version": 3
   },
   "file_extension": ".py",
   "mimetype": "text/x-python",
   "name": "python",
   "nbconvert_exporter": "python",
   "pygments_lexer": "ipython3",
   "version": "3.10.1"
  },
  "orig_nbformat": 4,
  "vscode": {
   "interpreter": {
    "hash": "4fd5f1a78ec943c8c356326e814b494338dee1ea64c07e73bae3131ad7e9957b"
   }
  }
 },
 "nbformat": 4,
 "nbformat_minor": 2
}
